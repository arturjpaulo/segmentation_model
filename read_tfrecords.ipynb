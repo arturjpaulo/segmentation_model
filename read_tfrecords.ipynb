{
 "cells": [
  {
   "cell_type": "markdown",
   "id": "814c38d0",
   "metadata": {},
   "source": [
    "# Read_tfrecords\n",
    "\n",
    "Script aims to read tfrecords files previously created. The tfrecords files contain master_image,c1,c2,c3,id_sub. The c1,c2,c3 masks correspond to gray matter, white matter and liquour segmentation carried out on CTseg. 'id_sub' corresponds to subject id_number"
   ]
  },
  {
   "cell_type": "markdown",
   "id": "04edb74f",
   "metadata": {},
   "source": [
    "### Import packages\n"
   ]
  },
  {
   "cell_type": "code",
   "execution_count": 1,
   "id": "979a1d0c",
   "metadata": {},
   "outputs": [],
   "source": [
    "import os\n",
    "import SimpleITK as sitk\n",
    "import matplotlib.pyplot as plt\n",
    "import numpy as np\n",
    "import boto3\n",
    "import os\n",
    "import glob\n",
    "import zipfile\n",
    "import shutil\n",
    "import keras\n",
    "import tensorflow as tf\n",
    "from functools import partial\n",
    "from keras import backend as K\n",
    "from sklearn.metrics import jaccard_score\n",
    "import statistics"
   ]
  },
  {
   "cell_type": "markdown",
   "id": "b980930e",
   "metadata": {},
   "source": [
    "### Get tfrecords files"
   ]
  },
  {
   "cell_type": "code",
   "execution_count": 2,
   "id": "61368f93",
   "metadata": {},
   "outputs": [
    {
     "data": {
      "text/plain": [
       "17"
      ]
     },
     "execution_count": 2,
     "metadata": {},
     "output_type": "execute_result"
    }
   ],
   "source": [
    "tfrecords_dir= '/volumed/Artur2/tf_recods_files'\n",
    "file_names = tf.io.gfile.glob('/volumed/Artur2/tf_recods_files/*')\n",
    "len(file_names)"
   ]
  },
  {
   "cell_type": "code",
   "execution_count": 3,
   "id": "d4b16550",
   "metadata": {},
   "outputs": [],
   "source": [
    "AUTOTUNE = tf.data.AUTOTUNE\n",
    "#defining the batch size\n",
    "BATCH_SIZE = 1\n"
   ]
  },
  {
   "cell_type": "code",
   "execution_count": 6,
   "id": "aea26821",
   "metadata": {},
   "outputs": [],
   "source": [
    "def decode_image(image,image_type):\n",
    "    \"\"\"serilize to numpy array\"\"\" \n",
    "    image_string = tf.io.parse_tensor(image, out_type=image_type)\n",
    "    feature = tf.reshape(image_string, shape=[256, 256, 256])\n",
    "    return feature\n",
    "    \n",
    "    \n",
    "\n",
    "def read_tfrecord(example):\n",
    "    \"\"\"reading master image, c2,c3,c3, subject id, age and sex features\"\"\" \n",
    "    feature_description ={\n",
    "        \"master_image\": tf.io.FixedLenFeature([],tf.string),\n",
    "        \"c1\": tf.io.FixedLenFeature([],tf.string),\n",
    "        \"c2\": tf.io.FixedLenFeature([],tf.string),\n",
    "        \"c3\": tf.io.FixedLenFeature([],tf.string),\n",
    "        \"sub\": tf.io.FixedLenFeature([],tf.string),\n",
    "        \"age\": tf.io.FixedLenFeature([],tf.string),\n",
    "        \"sex\": tf.io.FixedLenFeature([],tf.string)\n",
    "        \n",
    "        }\n",
    "  \n",
    "    example = tf.io.parse_single_example(example,feature_description ) #spliting the data into one subject\n",
    "    master_image = decode_image(example[\"master_image\"],tf.int16) #decoding string into nparray\n",
    "    c1 = decode_image(example[\"c1\"],tf.uint8) #decoding string into nparray\n",
    "    c2= decode_image(example[\"c2\"],tf.uint8) #decoding string into nparray\n",
    "    c3 = decode_image(example[\"c3\"],tf.uint8) #decoding string into nparray\n",
    "    id_sub = tf.cast(example[\"sub\"], tf.string)        \n",
    "    age= tf.cast(example[\"age\"], tf.string) \n",
    "    sex = tf.cast(example[\"sex\"], tf.string)     \n",
    "    #return master_image,[c1,c2,c3]\n",
    "    return master_image,c1\n",
    "\n",
    "    \n",
    "def load_dataset(filenames):\n",
    "    \"\"\"loading dataset\"\"\" \n",
    "    #By ignoring the order and reading files as soon as they come in, it will take a shorter time to load the data.\n",
    "    ignore_order = tf.data.Options()\n",
    "    ignore_order.experimental_deterministic = False  # disable order, increase speed\n",
    "    dataset = tf.data.TFRecordDataset(filenames)  # automatically interleaves reads from multiple files\n",
    "    dataset = dataset.with_options(ignore_order)\n",
    "    dataset = dataset.map(partial(read_tfrecord), num_parallel_calls=AUTOTUNE)\n",
    "    return dataset\n",
    "\n",
    "def get_dataset(filenames):\n",
    "    \"\"\"function to get our different datasets\"\"\" \n",
    "    dataset = load_dataset(filenames)\n",
    "    dataset = dataset.shuffle(2048)\n",
    "    dataset = dataset.prefetch(buffer_size=AUTOTUNE)\n",
    "    dataset = dataset.batch(BATCH_SIZE)\n",
    "    \n",
    "    return dataset\n",
    "\n",
    "\n",
    "\n",
    "\n",
    "    "
   ]
  },
  {
   "cell_type": "code",
   "execution_count": 7,
   "id": "51c772b6",
   "metadata": {},
   "outputs": [],
   "source": [
    "dataset=get_dataset(file_names)"
   ]
  },
  {
   "cell_type": "markdown",
   "id": "5c89c009",
   "metadata": {},
   "source": [
    "### Test if images were decoded correctly"
   ]
  },
  {
   "cell_type": "code",
   "execution_count": 8,
   "id": "1c152929",
   "metadata": {},
   "outputs": [],
   "source": [
    "master_image,c1 = next(iter(dataset))"
   ]
  },
  {
   "cell_type": "code",
   "execution_count": 9,
   "id": "67f50b77",
   "metadata": {},
   "outputs": [],
   "source": [
    "c1_image=c1.numpy()"
   ]
  },
  {
   "cell_type": "code",
   "execution_count": 12,
   "id": "51569488",
   "metadata": {},
   "outputs": [
    {
     "data": {
      "text/plain": [
       "<matplotlib.image.AxesImage at 0x7f80e59eb3c8>"
      ]
     },
     "execution_count": 12,
     "metadata": {},
     "output_type": "execute_result"
    },
    {
     "data": {
      "image/png": "[encoded data removed]",
      "text/plain": [
       "<Figure size 432x288 with 1 Axes>"
      ]
     },
     "metadata": {
      "needs_background": "light"
     },
     "output_type": "display_data"
    }
   ],
   "source": [
    "plt.imshow(c1_image[0,150,:,:],cmap='Blues', alpha=0.5)\n",
    "# plt.imshow(c2[1,150,:,:],cmap='Reds',alpha=0.5)\n",
    "# plt.imshow(c3[1,150,:,:],cmap='Purples',alpha=0.5)"
   ]
  },
  {
   "cell_type": "markdown",
   "id": "9e98b4cd",
   "metadata": {},
   "source": [
    "### Train model\n",
    "\n"
   ]
  },
  {
   "cell_type": "code",
   "execution_count": 16,
   "id": "c80b529b",
   "metadata": {},
   "outputs": [],
   "source": [
    "os.chdir('/volumed/Artur2/')\n"
   ]
  },
  {
   "cell_type": "code",
   "execution_count": 17,
   "id": "98d23cf0",
   "metadata": {},
   "outputs": [],
   "source": [
    "from model3D import ModelSegmentation\n",
    "\n",
    "# Classes to create the model and load the weights. Related to requirements ZKDP06, ZKVS01, and ZKBS07.\n",
    "#     =======================================================================================================\n",
    "#     Input parameters:\n",
    "#         - image_size: integer referring to the dimension of the model input image;\n",
    "#         - num_class: integer referring to the number of classes to be segmented by the model. By default is 3;\n",
    "#         - model_weigths: string for the path and name of the H5 file for the model weights, by default is \n",
    "#                          None;\n",
    "#         - bacth_norm: boolean variable, if true, Batch Normalization layers are added to the model \n",
    "#                       architecture. By default it is True.\n",
    "#     =======================================================================================================\n",
    "\n",
    "\n",
    "teste = ModelSegmentation(256,1,None,True)"
   ]
  },
  {
   "cell_type": "code",
   "execution_count": 18,
   "id": "1a0291f8",
   "metadata": {},
   "outputs": [],
   "source": [
    "modelo=teste.ИNet()"
   ]
  },
  {
   "cell_type": "code",
   "execution_count": 19,
   "id": "4a94a0fd",
   "metadata": {},
   "outputs": [
    {
     "name": "stdout",
     "output_type": "stream",
     "text": [
      "Model: \"model_1\"\n",
      "__________________________________________________________________________________________________\n",
      "Layer (type)                    Output Shape         Param #     Connected to                     \n",
      "==================================================================================================\n",
      "input_2 (InputLayer)            [(None, 256, 256, 25 0                                            \n",
      "__________________________________________________________________________________________________\n",
      "conv3d_32 (Conv3D)              (None, 256, 256, 256 112         input_2[0][0]                    \n",
      "__________________________________________________________________________________________________\n",
      "batch_normalization_26 (BatchNo (None, 256, 256, 256 16          conv3d_32[0][0]                  \n",
      "__________________________________________________________________________________________________\n",
      "activation_27 (Activation)      (None, 256, 256, 256 0           batch_normalization_26[0][0]     \n",
      "__________________________________________________________________________________________________\n",
      "conv3d_33 (Conv3D)              (None, 128, 128, 128 1744        activation_27[0][0]              \n",
      "__________________________________________________________________________________________________\n",
      "batch_normalization_27 (BatchNo (None, 128, 128, 128 64          conv3d_33[0][0]                  \n",
      "__________________________________________________________________________________________________\n",
      "activation_28 (Activation)      (None, 128, 128, 128 0           batch_normalization_27[0][0]     \n",
      "__________________________________________________________________________________________________\n",
      "conv3d_34 (Conv3D)              (None, 128, 128, 128 6928        activation_28[0][0]              \n",
      "__________________________________________________________________________________________________\n",
      "add_9 (Add)                     (None, 128, 128, 128 0           conv3d_33[0][0]                  \n",
      "                                                                 conv3d_34[0][0]                  \n",
      "__________________________________________________________________________________________________\n",
      "batch_normalization_28 (BatchNo (None, 128, 128, 128 64          add_9[0][0]                      \n",
      "__________________________________________________________________________________________________\n",
      "activation_29 (Activation)      (None, 128, 128, 128 0           batch_normalization_28[0][0]     \n",
      "__________________________________________________________________________________________________\n",
      "conv3d_35 (Conv3D)              (None, 64, 64, 64, 3 13856       activation_29[0][0]              \n",
      "__________________________________________________________________________________________________\n",
      "batch_normalization_29 (BatchNo (None, 64, 64, 64, 3 128         conv3d_35[0][0]                  \n",
      "__________________________________________________________________________________________________\n",
      "activation_30 (Activation)      (None, 64, 64, 64, 3 0           batch_normalization_29[0][0]     \n",
      "__________________________________________________________________________________________________\n",
      "conv3d_36 (Conv3D)              (None, 64, 64, 64, 3 27680       activation_30[0][0]              \n",
      "__________________________________________________________________________________________________\n",
      "add_10 (Add)                    (None, 64, 64, 64, 3 0           conv3d_35[0][0]                  \n",
      "                                                                 conv3d_36[0][0]                  \n",
      "__________________________________________________________________________________________________\n",
      "batch_normalization_30 (BatchNo (None, 64, 64, 64, 3 128         add_10[0][0]                     \n",
      "__________________________________________________________________________________________________\n",
      "activation_31 (Activation)      (None, 64, 64, 64, 3 0           batch_normalization_30[0][0]     \n",
      "__________________________________________________________________________________________________\n",
      "conv3d_37 (Conv3D)              (None, 32, 32, 32, 6 55360       activation_31[0][0]              \n",
      "__________________________________________________________________________________________________\n",
      "batch_normalization_31 (BatchNo (None, 32, 32, 32, 6 256         conv3d_37[0][0]                  \n",
      "__________________________________________________________________________________________________\n",
      "activation_32 (Activation)      (None, 32, 32, 32, 6 0           batch_normalization_31[0][0]     \n",
      "__________________________________________________________________________________________________\n",
      "conv3d_38 (Conv3D)              (None, 32, 32, 32, 6 110656      activation_32[0][0]              \n",
      "__________________________________________________________________________________________________\n",
      "add_11 (Add)                    (None, 32, 32, 32, 6 0           conv3d_37[0][0]                  \n",
      "                                                                 conv3d_38[0][0]                  \n",
      "__________________________________________________________________________________________________\n",
      "batch_normalization_32 (BatchNo (None, 32, 32, 32, 6 256         add_11[0][0]                     \n",
      "__________________________________________________________________________________________________\n",
      "activation_33 (Activation)      (None, 32, 32, 32, 6 0           batch_normalization_32[0][0]     \n",
      "__________________________________________________________________________________________________\n",
      "conv3d_39 (Conv3D)              (None, 16, 16, 16, 1 221312      activation_33[0][0]              \n",
      "__________________________________________________________________________________________________\n",
      "batch_normalization_33 (BatchNo (None, 16, 16, 16, 1 512         conv3d_39[0][0]                  \n",
      "__________________________________________________________________________________________________\n",
      "activation_34 (Activation)      (None, 16, 16, 16, 1 0           batch_normalization_33[0][0]     \n",
      "__________________________________________________________________________________________________\n",
      "conv3d_40 (Conv3D)              (None, 16, 16, 16, 1 442496      activation_34[0][0]              \n",
      "__________________________________________________________________________________________________\n",
      "add_12 (Add)                    (None, 16, 16, 16, 1 0           conv3d_39[0][0]                  \n",
      "                                                                 conv3d_40[0][0]                  \n",
      "__________________________________________________________________________________________________\n",
      "batch_normalization_34 (BatchNo (None, 16, 16, 16, 1 512         add_12[0][0]                     \n",
      "__________________________________________________________________________________________________\n",
      "activation_35 (Activation)      (None, 16, 16, 16, 1 0           batch_normalization_34[0][0]     \n",
      "__________________________________________________________________________________________________\n",
      "conv3d_41 (Conv3D)              (None, 8, 8, 8, 256) 884992      activation_35[0][0]              \n",
      "__________________________________________________________________________________________________\n",
      "batch_normalization_35 (BatchNo (None, 8, 8, 8, 256) 1024        conv3d_41[0][0]                  \n",
      "__________________________________________________________________________________________________\n",
      "activation_36 (Activation)      (None, 8, 8, 8, 256) 0           batch_normalization_35[0][0]     \n",
      "__________________________________________________________________________________________________\n",
      "conv3d_42 (Conv3D)              (None, 8, 8, 8, 256) 1769728     activation_36[0][0]              \n",
      "__________________________________________________________________________________________________\n",
      "add_13 (Add)                    (None, 8, 8, 8, 256) 0           conv3d_41[0][0]                  \n",
      "                                                                 conv3d_42[0][0]                  \n",
      "__________________________________________________________________________________________________\n",
      "batch_normalization_36 (BatchNo (None, 8, 8, 8, 256) 1024        add_13[0][0]                     \n",
      "__________________________________________________________________________________________________\n",
      "activation_37 (Activation)      (None, 8, 8, 8, 256) 0           batch_normalization_36[0][0]     \n",
      "__________________________________________________________________________________________________\n",
      "conv3d_43 (Conv3D)              (None, 8, 8, 8, 128) 32896       activation_37[0][0]              \n",
      "__________________________________________________________________________________________________\n",
      "batch_normalization_37 (BatchNo (None, 8, 8, 8, 128) 512         conv3d_43[0][0]                  \n",
      "__________________________________________________________________________________________________\n",
      "activation_38 (Activation)      (None, 8, 8, 8, 128) 0           batch_normalization_37[0][0]     \n",
      "__________________________________________________________________________________________________\n",
      "conv3d_transpose_9 (Conv3DTrans (None, 16, 16, 16, 1 442496      activation_38[0][0]              \n",
      "__________________________________________________________________________________________________\n",
      "conv3d_44 (Conv3D)              (None, 16, 16, 16, 1 442496      conv3d_transpose_9[0][0]         \n",
      "__________________________________________________________________________________________________\n",
      "batch_normalization_38 (BatchNo (None, 16, 16, 16, 1 512         conv3d_44[0][0]                  \n",
      "__________________________________________________________________________________________________\n",
      "activation_39 (Activation)      (None, 16, 16, 16, 1 0           batch_normalization_38[0][0]     \n",
      "__________________________________________________________________________________________________\n",
      "concatenate_5 (Concatenate)     (None, 16, 16, 16, 2 0           activation_39[0][0]              \n",
      "                                                                 activation_35[0][0]              \n",
      "__________________________________________________________________________________________________\n",
      "dropout_5 (Dropout)             (None, 16, 16, 16, 2 0           concatenate_5[0][0]              \n",
      "__________________________________________________________________________________________________\n",
      "conv3d_45 (Conv3D)              (None, 16, 16, 16, 1 884864      dropout_5[0][0]                  \n",
      "__________________________________________________________________________________________________\n",
      "batch_normalization_39 (BatchNo (None, 16, 16, 16, 1 512         conv3d_45[0][0]                  \n",
      "__________________________________________________________________________________________________\n",
      "activation_40 (Activation)      (None, 16, 16, 16, 1 0           batch_normalization_39[0][0]     \n",
      "__________________________________________________________________________________________________\n",
      "conv3d_46 (Conv3D)              (None, 16, 16, 16, 6 8256        activation_40[0][0]              \n",
      "__________________________________________________________________________________________________\n",
      "batch_normalization_40 (BatchNo (None, 16, 16, 16, 6 256         conv3d_46[0][0]                  \n",
      "__________________________________________________________________________________________________\n",
      "activation_41 (Activation)      (None, 16, 16, 16, 6 0           batch_normalization_40[0][0]     \n",
      "__________________________________________________________________________________________________\n",
      "conv3d_transpose_10 (Conv3DTran (None, 32, 32, 32, 6 110656      activation_41[0][0]              \n",
      "__________________________________________________________________________________________________\n",
      "conv3d_47 (Conv3D)              (None, 32, 32, 32, 6 110656      conv3d_transpose_10[0][0]        \n",
      "__________________________________________________________________________________________________\n",
      "batch_normalization_41 (BatchNo (None, 32, 32, 32, 6 256         conv3d_47[0][0]                  \n",
      "__________________________________________________________________________________________________\n",
      "activation_42 (Activation)      (None, 32, 32, 32, 6 0           batch_normalization_41[0][0]     \n",
      "__________________________________________________________________________________________________\n",
      "concatenate_6 (Concatenate)     (None, 32, 32, 32, 1 0           activation_42[0][0]              \n",
      "                                                                 activation_33[0][0]              \n",
      "__________________________________________________________________________________________________\n",
      "dropout_6 (Dropout)             (None, 32, 32, 32, 1 0           concatenate_6[0][0]              \n",
      "__________________________________________________________________________________________________\n",
      "conv3d_48 (Conv3D)              (None, 32, 32, 32, 6 221248      dropout_6[0][0]                  \n",
      "__________________________________________________________________________________________________\n",
      "batch_normalization_42 (BatchNo (None, 32, 32, 32, 6 256         conv3d_48[0][0]                  \n",
      "__________________________________________________________________________________________________\n",
      "activation_43 (Activation)      (None, 32, 32, 32, 6 0           batch_normalization_42[0][0]     \n",
      "__________________________________________________________________________________________________\n",
      "conv3d_49 (Conv3D)              (None, 32, 32, 32, 3 2080        activation_43[0][0]              \n",
      "__________________________________________________________________________________________________\n",
      "batch_normalization_43 (BatchNo (None, 32, 32, 32, 3 128         conv3d_49[0][0]                  \n",
      "__________________________________________________________________________________________________\n",
      "activation_44 (Activation)      (None, 32, 32, 32, 3 0           batch_normalization_43[0][0]     \n",
      "__________________________________________________________________________________________________\n",
      "conv3d_transpose_11 (Conv3DTran (None, 64, 64, 64, 3 27680       activation_44[0][0]              \n",
      "__________________________________________________________________________________________________\n",
      "conv3d_50 (Conv3D)              (None, 64, 64, 64, 3 27680       conv3d_transpose_11[0][0]        \n",
      "__________________________________________________________________________________________________\n",
      "batch_normalization_44 (BatchNo (None, 64, 64, 64, 3 128         conv3d_50[0][0]                  \n",
      "__________________________________________________________________________________________________\n",
      "activation_45 (Activation)      (None, 64, 64, 64, 3 0           batch_normalization_44[0][0]     \n",
      "__________________________________________________________________________________________________\n",
      "concatenate_7 (Concatenate)     (None, 64, 64, 64, 6 0           activation_45[0][0]              \n",
      "                                                                 activation_31[0][0]              \n",
      "__________________________________________________________________________________________________\n",
      "dropout_7 (Dropout)             (None, 64, 64, 64, 6 0           concatenate_7[0][0]              \n",
      "__________________________________________________________________________________________________\n",
      "conv3d_51 (Conv3D)              (None, 64, 64, 64, 3 55328       dropout_7[0][0]                  \n",
      "__________________________________________________________________________________________________\n",
      "batch_normalization_45 (BatchNo (None, 64, 64, 64, 3 128         conv3d_51[0][0]                  \n",
      "__________________________________________________________________________________________________\n",
      "activation_46 (Activation)      (None, 64, 64, 64, 3 0           batch_normalization_45[0][0]     \n",
      "__________________________________________________________________________________________________\n",
      "conv3d_52 (Conv3D)              (None, 64, 64, 64, 1 528         activation_46[0][0]              \n",
      "__________________________________________________________________________________________________\n",
      "batch_normalization_46 (BatchNo (None, 64, 64, 64, 1 64          conv3d_52[0][0]                  \n",
      "__________________________________________________________________________________________________\n",
      "activation_47 (Activation)      (None, 64, 64, 64, 1 0           batch_normalization_46[0][0]     \n",
      "__________________________________________________________________________________________________\n",
      "conv3d_transpose_12 (Conv3DTran (None, 128, 128, 128 6928        activation_47[0][0]              \n",
      "__________________________________________________________________________________________________\n",
      "conv3d_53 (Conv3D)              (None, 128, 128, 128 6928        conv3d_transpose_12[0][0]        \n",
      "__________________________________________________________________________________________________\n",
      "batch_normalization_47 (BatchNo (None, 128, 128, 128 64          conv3d_53[0][0]                  \n",
      "__________________________________________________________________________________________________\n",
      "activation_48 (Activation)      (None, 128, 128, 128 0           batch_normalization_47[0][0]     \n",
      "__________________________________________________________________________________________________\n",
      "concatenate_8 (Concatenate)     (None, 128, 128, 128 0           activation_48[0][0]              \n",
      "                                                                 activation_29[0][0]              \n",
      "__________________________________________________________________________________________________\n",
      "dropout_8 (Dropout)             (None, 128, 128, 128 0           concatenate_8[0][0]              \n",
      "__________________________________________________________________________________________________\n",
      "conv3d_54 (Conv3D)              (None, 128, 128, 128 13840       dropout_8[0][0]                  \n",
      "__________________________________________________________________________________________________\n",
      "batch_normalization_48 (BatchNo (None, 128, 128, 128 64          conv3d_54[0][0]                  \n",
      "__________________________________________________________________________________________________\n",
      "activation_49 (Activation)      (None, 128, 128, 128 0           batch_normalization_48[0][0]     \n",
      "__________________________________________________________________________________________________\n",
      "conv3d_55 (Conv3D)              (None, 128, 128, 128 17          activation_49[0][0]              \n",
      "__________________________________________________________________________________________________\n",
      "batch_normalization_49 (BatchNo (None, 128, 128, 128 4           conv3d_55[0][0]                  \n",
      "__________________________________________________________________________________________________\n",
      "activation_50 (Activation)      (None, 128, 128, 128 0           batch_normalization_49[0][0]     \n",
      "__________________________________________________________________________________________________\n",
      "conv3d_transpose_13 (Conv3DTran (None, 256, 256, 256 28          activation_50[0][0]              \n",
      "__________________________________________________________________________________________________\n",
      "conv3d_56 (Conv3D)              (None, 256, 256, 256 28          conv3d_transpose_13[0][0]        \n",
      "__________________________________________________________________________________________________\n",
      "batch_normalization_50 (BatchNo (None, 256, 256, 256 4           conv3d_56[0][0]                  \n",
      "__________________________________________________________________________________________________\n",
      "conv3d_59 (Conv3D)              (None, 16, 16, 16, 1 129         activation_40[0][0]              \n",
      "__________________________________________________________________________________________________\n",
      "activation_51 (Activation)      (None, 256, 256, 256 0           batch_normalization_50[0][0]     \n",
      "__________________________________________________________________________________________________\n",
      "conv3d_60 (Conv3D)              (None, 32, 32, 32, 1 65          activation_43[0][0]              \n",
      "__________________________________________________________________________________________________\n",
      "conv3d_transpose_14 (Conv3DTran (None, 32, 32, 32, 1 28          conv3d_59[0][0]                  \n",
      "__________________________________________________________________________________________________\n",
      "concatenate_9 (Concatenate)     (None, 256, 256, 256 0           activation_51[0][0]              \n",
      "                                                                 activation_27[0][0]              \n",
      "__________________________________________________________________________________________________\n",
      "add_14 (Add)                    (None, 32, 32, 32, 1 0           conv3d_60[0][0]                  \n",
      "                                                                 conv3d_transpose_14[0][0]        \n",
      "__________________________________________________________________________________________________\n",
      "dropout_9 (Dropout)             (None, 256, 256, 256 0           concatenate_9[0][0]              \n",
      "__________________________________________________________________________________________________\n",
      "conv3d_61 (Conv3D)              (None, 64, 64, 64, 1 33          activation_46[0][0]              \n",
      "__________________________________________________________________________________________________\n",
      "conv3d_transpose_15 (Conv3DTran (None, 64, 64, 64, 1 28          add_14[0][0]                     \n",
      "__________________________________________________________________________________________________\n",
      "conv3d_57 (Conv3D)              (None, 256, 256, 256 136         dropout_9[0][0]                  \n",
      "__________________________________________________________________________________________________\n",
      "add_15 (Add)                    (None, 64, 64, 64, 1 0           conv3d_61[0][0]                  \n",
      "                                                                 conv3d_transpose_15[0][0]        \n",
      "__________________________________________________________________________________________________\n",
      "batch_normalization_51 (BatchNo (None, 256, 256, 256 4           conv3d_57[0][0]                  \n",
      "__________________________________________________________________________________________________\n",
      "conv3d_62 (Conv3D)              (None, 128, 128, 128 17          activation_49[0][0]              \n",
      "__________________________________________________________________________________________________\n",
      "conv3d_transpose_16 (Conv3DTran (None, 128, 128, 128 28          add_15[0][0]                     \n",
      "__________________________________________________________________________________________________\n",
      "activation_52 (Activation)      (None, 256, 256, 256 0           batch_normalization_51[0][0]     \n",
      "__________________________________________________________________________________________________\n",
      "add_16 (Add)                    (None, 128, 128, 128 0           conv3d_62[0][0]                  \n",
      "                                                                 conv3d_transpose_16[0][0]        \n",
      "__________________________________________________________________________________________________\n",
      "conv3d_58 (Conv3D)              (None, 256, 256, 256 2           activation_52[0][0]              \n",
      "__________________________________________________________________________________________________\n",
      "conv3d_transpose_17 (Conv3DTran (None, 256, 256, 256 28          add_16[0][0]                     \n",
      "__________________________________________________________________________________________________\n",
      "add_17 (Add)                    (None, 256, 256, 256 0           conv3d_58[0][0]                  \n",
      "                                                                 conv3d_transpose_17[0][0]        \n",
      "__________________________________________________________________________________________________\n",
      "conv3d_63 (Conv3D)              (None, 256, 256, 256 2           add_17[0][0]                     \n",
      "__________________________________________________________________________________________________\n",
      "activation_53 (Activation)      (None, 256, 256, 256 0           conv3d_63[0][0]                  \n",
      "==================================================================================================\n",
      "Total params: 5,936,869\n",
      "Trainable params: 5,933,431\n",
      "Non-trainable params: 3,438\n",
      "__________________________________________________________________________________________________\n"
     ]
    }
   ],
   "source": [
    "modelo.summary()"
   ]
  },
  {
   "cell_type": "markdown",
   "id": "26f61556",
   "metadata": {},
   "source": [
    "### Definir métrica Dice e loss Dice\n"
   ]
  },
  {
   "cell_type": "code",
   "execution_count": 14,
   "id": "234cd3b5",
   "metadata": {},
   "outputs": [],
   "source": [
    "## VERIFICAR FUNÇÃO DICE!!!!\n",
    "\n",
    "def dice_metric(y_true, y_pred): # No gamma, no smooth\n",
    "#     y_true=y_true.astype(float)\n",
    "#     y_pred=y_pred.astype(float)\n",
    "    \n",
    "    y_pred = tf.convert_to_tensor(y_pred)\n",
    "    y_true = tf.cast(y_true, y_pred.dtype)\n",
    "    \n",
    "    numerator = 2 * tf.reduce_sum(y_true * y_pred)\n",
    "    denominator = tf.reduce_sum(y_true + y_pred)\n",
    "\n",
    "    return numerator / denominator\n",
    "\n",
    "\n",
    "\n",
    "def dice_loss(y_true,y_pred):\n",
    "    return 1-dice_metric(y_true,y_pred)\n",
    "\n",
    "\n",
    "\n",
    "def jaccard_similarity_score(y_true,y_pred):\n",
    "    \n",
    "    y_pred = tf.convert_to_tensor(y_pred)\n",
    "    y_true = tf.cast(y_true, y_pred.dtype)\n",
    "\n",
    "    # Compute the intersection using 2 * tf.reduce_sum(y_true * y_pred)\n",
    "    intersection = tf.reduce_sum(y_true * y_pred)\n",
    "\n",
    "    # Compute the denominator using tf.reduce_sum\n",
    "    denominator = tf.reduce_sum((y_true + y_pred) - intersection)\n",
    "\n",
    "    # Compute the Jaccard coefficient by dividing the intersection by the denominator\n",
    "    jaccard_coefficient = 2*intersection / denominator\n",
    "\n",
    "    return jaccard_coefficient\n",
    "\n",
    "def jaccard_loss(y_true,y_pred):\n",
    "    return 1-jaccard_similarity_score(y_true,y_pred)\n",
    "\n",
    "\n",
    "# def custom_loss(y_true, y_pred)\n",
    "\n"
   ]
  },
  {
   "cell_type": "markdown",
   "id": "37696266",
   "metadata": {},
   "source": [
    "### testing custom_metric"
   ]
  },
  {
   "cell_type": "code",
   "execution_count": 31,
   "id": "124fe5b9",
   "metadata": {},
   "outputs": [],
   "source": [
    "# def custom_metric (y_true,y_pred):\n",
    "#     y_true=sitk.GetImageFromArray(y_true)\n",
    "#     y_pred=sitk.GetImageFromArray(y_pred)\n",
    "#     overlap_measures_filter = sitk.LabelOverlapMeasuresImageFilter()\n",
    "#     hausdorff_distance_filter = sitk.HausdorffDistanceImageFilter()\n",
    "#     overlap_measures_filter.Execute(y_true, y_pred)\n",
    "#     jaccard=overlap_measures_filter.GetJaccardCoefficient()\n",
    "#     dice=overlap_measures_filter.GetDiceCoefficient()\n",
    "#     housdorff=hausdorff_distance_filter.GetHausdorffDistance()\n",
    "    \n",
    "#     metric= statistics.median([jaccard,dice,housdorff])\n",
    "#     return metric\n",
    "    \n",
    "# def custom_loss(y_true,y_pred):\n",
    "#     return 1-custom_metric(y_true,y_pred)\n",
    "    \n",
    "    \n"
   ]
  },
  {
   "cell_type": "code",
   "execution_count": 38,
   "id": "36a18940",
   "metadata": {},
   "outputs": [
    {
     "data": {
      "text/plain": [
       "0.65382630235269"
      ]
     },
     "execution_count": 38,
     "metadata": {},
     "output_type": "execute_result"
    }
   ],
   "source": [
    "# custom_loss( c1_image[7,:,:,:],c1_image[0,:,:,:])"
   ]
  },
  {
   "cell_type": "markdown",
   "id": "eaba6673",
   "metadata": {},
   "source": [
    "### Compilar o modelo usando otimizador Adam\n"
   ]
  },
  {
   "cell_type": "code",
   "execution_count": 20,
   "id": "43c898e1",
   "metadata": {},
   "outputs": [],
   "source": [
    "adam = tf.keras.optimizers.Adam(learning_rate=0.0001) \n",
    "\n",
    "modelo.compile(optimizer=adam, loss=dice_loss, metrics=[dice_metric])"
   ]
  },
  {
   "cell_type": "markdown",
   "id": "24cea41e",
   "metadata": {},
   "source": [
    "### Treinar o modelo"
   ]
  },
  {
   "cell_type": "code",
   "execution_count": null,
   "id": "86ab3297",
   "metadata": {},
   "outputs": [],
   "source": [
    "modelo.fit(dataset, epochs=1, batch_size=1, verbose=2 )\n"
   ]
  },
  {
   "cell_type": "code",
   "execution_count": null,
   "id": "472d77db",
   "metadata": {},
   "outputs": [],
   "source": [
    "!cd"
   ]
  },
  {
   "cell_type": "code",
   "execution_count": null,
   "id": "16583863",
   "metadata": {},
   "outputs": [],
   "source": []
  },
  {
   "cell_type": "code",
   "execution_count": null,
   "id": "77cd96a4",
   "metadata": {},
   "outputs": [],
   "source": []
  },
  {
   "cell_type": "code",
   "execution_count": null,
   "id": "3cd5ab0b",
   "metadata": {},
   "outputs": [],
   "source": []
  },
  {
   "cell_type": "code",
   "execution_count": null,
   "id": "6b4e5648",
   "metadata": {},
   "outputs": [],
   "source": []
  }
 ],
 "metadata": {
  "kernelspec": {
   "display_name": "Python 3",
   "language": "python",
   "name": "python3"
  },
  "language_info": {
   "codemirror_mode": {
    "name": "ipython",
    "version": 3
   },
   "file_extension": ".py",
   "mimetype": "text/x-python",
   "name": "python",
   "nbconvert_exporter": "python",
   "pygments_lexer": "ipython3",
   "version": "3.6.9"
  }
 },
 "nbformat": 4,
 "nbformat_minor": 5
}
